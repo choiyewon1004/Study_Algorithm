{
 "cells": [
  {
   "cell_type": "code",
   "execution_count": null,
   "id": "e552d011",
   "metadata": {},
   "outputs": [],
   "source": [
    "import sys\n",
    "input = sys.stdin.readline\n",
    "n, m = map(int, input().split())\n",
    "nums = list(map(int, input().split()))\n",
    "sec = [0]\n",
    "tmp = 0\n",
    "\n",
    "for i in range(n):\n",
    "    tmp += nums[i]\n",
    "    sec.append(tmp)\n",
    "    \n",
    "for i in range(m):\n",
    "    a, b = map(int, input().split())\n",
    "    print(sec[b] - sec[a-1])"
   ]
  }
 ],
 "metadata": {
  "kernelspec": {
   "display_name": "Python 3 (ipykernel)",
   "language": "python",
   "name": "python3"
  },
  "language_info": {
   "codemirror_mode": {
    "name": "ipython",
    "version": 3
   },
   "file_extension": ".py",
   "mimetype": "text/x-python",
   "name": "python",
   "nbconvert_exporter": "python",
   "pygments_lexer": "ipython3",
   "version": "3.10.9"
  }
 },
 "nbformat": 4,
 "nbformat_minor": 5
}
